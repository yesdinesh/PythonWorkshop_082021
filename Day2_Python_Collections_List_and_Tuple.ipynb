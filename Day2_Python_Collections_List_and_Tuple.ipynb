{
  "nbformat": 4,
  "nbformat_minor": 0,
  "metadata": {
    "colab": {
      "name": "Day2 Python Collections List and Tuple.ipynb",
      "provenance": [],
      "collapsed_sections": []
    },
    "kernelspec": {
      "name": "python3",
      "display_name": "Python 3"
    },
    "language_info": {
      "name": "python"
    }
  },
  "cells": [
    {
      "cell_type": "code",
      "metadata": {
        "id": "excof7JZtdiR"
      },
      "source": [
        ""
      ],
      "execution_count": null,
      "outputs": []
    },
    {
      "cell_type": "markdown",
      "metadata": {
        "id": "N-oKGE5NteG9"
      },
      "source": [
        "## Python Collections\n",
        "\n",
        "### List\n",
        "### Tuple\n",
        "### Dict\n",
        "### Set"
      ]
    },
    {
      "cell_type": "markdown",
      "metadata": {
        "id": "fQbp5mnxuCGp"
      },
      "source": [
        "## list\n",
        "   declare by [] or list function\n",
        "\n",
        "   mutable (changable)\n",
        "\n",
        "   retreive by index or slicing\n",
        "\n",
        "   allow multiple data type\n"
      ]
    },
    {
      "cell_type": "code",
      "metadata": {
        "id": "OsaZ_ynqtgTD"
      },
      "source": [
        "li = [1,2,3,4]"
      ],
      "execution_count": 2,
      "outputs": []
    },
    {
      "cell_type": "code",
      "metadata": {
        "colab": {
          "base_uri": "https://localhost:8080/"
        },
        "id": "yo1DbrzOt-Sb",
        "outputId": "40f27d85-0fe2-4e4b-9636-cd14359b5607"
      },
      "source": [
        "li"
      ],
      "execution_count": 3,
      "outputs": [
        {
          "output_type": "execute_result",
          "data": {
            "text/plain": [
              "[1, 2, 3, 4]"
            ]
          },
          "metadata": {
            "tags": []
          },
          "execution_count": 3
        }
      ]
    },
    {
      "cell_type": "code",
      "metadata": {
        "id": "CmHiycxLuNAC"
      },
      "source": [
        "li = [1,2,3,4, 10.2, \"hello\"]"
      ],
      "execution_count": 4,
      "outputs": []
    },
    {
      "cell_type": "code",
      "metadata": {
        "colab": {
          "base_uri": "https://localhost:8080/"
        },
        "id": "6W_pshycuQQI",
        "outputId": "a7b26491-2583-4ff8-cda7-cc4212bf02c8"
      },
      "source": [
        "li"
      ],
      "execution_count": 5,
      "outputs": [
        {
          "output_type": "execute_result",
          "data": {
            "text/plain": [
              "[1, 2, 3, 4, 10.2, 'hello']"
            ]
          },
          "metadata": {
            "tags": []
          },
          "execution_count": 5
        }
      ]
    },
    {
      "cell_type": "code",
      "metadata": {
        "colab": {
          "base_uri": "https://localhost:8080/"
        },
        "id": "Lk2BeYjmuRH6",
        "outputId": "968e4f5d-0210-4750-8331-e8b6ce8881bb"
      },
      "source": [
        "tup = (1,2,3)\n",
        "print(tup, type(tup))\n",
        "li1 = list(tup)\n",
        "print(li1, type(li1))"
      ],
      "execution_count": 8,
      "outputs": [
        {
          "output_type": "stream",
          "text": [
            "(1, 2, 3) <class 'tuple'>\n",
            "[1, 2, 3] <class 'list'>\n"
          ],
          "name": "stdout"
        }
      ]
    },
    {
      "cell_type": "code",
      "metadata": {
        "id": "g1758oTsuWeI"
      },
      "source": [
        "li2 = [2,4,8]"
      ],
      "execution_count": 11,
      "outputs": []
    },
    {
      "cell_type": "code",
      "metadata": {
        "colab": {
          "base_uri": "https://localhost:8080/"
        },
        "id": "_rwFUuETuq3j",
        "outputId": "ff383ad6-298c-42db-a0dd-d35fbce3f402"
      },
      "source": [
        "li2[1]"
      ],
      "execution_count": 12,
      "outputs": [
        {
          "output_type": "execute_result",
          "data": {
            "text/plain": [
              "4"
            ]
          },
          "metadata": {
            "tags": []
          },
          "execution_count": 12
        }
      ]
    },
    {
      "cell_type": "code",
      "metadata": {
        "colab": {
          "base_uri": "https://localhost:8080/"
        },
        "id": "_vaHJRSIutbD",
        "outputId": "00f0bb42-f2a0-4659-d192-cc5da93b3290"
      },
      "source": [
        "li2[0:2]"
      ],
      "execution_count": 13,
      "outputs": [
        {
          "output_type": "execute_result",
          "data": {
            "text/plain": [
              "[2, 4]"
            ]
          },
          "metadata": {
            "tags": []
          },
          "execution_count": 13
        }
      ]
    },
    {
      "cell_type": "code",
      "metadata": {
        "id": "1eWkv2CjvBlf"
      },
      "source": [
        "li3 = [2,4,8,10,12,14]"
      ],
      "execution_count": 14,
      "outputs": []
    },
    {
      "cell_type": "code",
      "metadata": {
        "colab": {
          "base_uri": "https://localhost:8080/"
        },
        "id": "5QemA3mlvMqf",
        "outputId": "39fa5cb2-e9a5-47a4-a116-188efe0f7248"
      },
      "source": [
        "li3[2:5]"
      ],
      "execution_count": 15,
      "outputs": [
        {
          "output_type": "execute_result",
          "data": {
            "text/plain": [
              "[8, 10, 12]"
            ]
          },
          "metadata": {
            "tags": []
          },
          "execution_count": 15
        }
      ]
    },
    {
      "cell_type": "code",
      "metadata": {
        "id": "A9kNgqPPvYLv"
      },
      "source": [
        "li3[2] = 9"
      ],
      "execution_count": 16,
      "outputs": []
    },
    {
      "cell_type": "code",
      "metadata": {
        "colab": {
          "base_uri": "https://localhost:8080/"
        },
        "id": "ItwG9r_jvjXB",
        "outputId": "a504fd97-7d31-44ff-abb2-dd53966b24dd"
      },
      "source": [
        "li3"
      ],
      "execution_count": 17,
      "outputs": [
        {
          "output_type": "execute_result",
          "data": {
            "text/plain": [
              "[2, 4, 9, 10, 12, 14]"
            ]
          },
          "metadata": {
            "tags": []
          },
          "execution_count": 17
        }
      ]
    },
    {
      "cell_type": "code",
      "metadata": {
        "id": "W3BzjjodwpCh"
      },
      "source": [
        ""
      ],
      "execution_count": null,
      "outputs": []
    },
    {
      "cell_type": "code",
      "metadata": {
        "colab": {
          "base_uri": "https://localhost:8080/"
        },
        "id": "_03r4pj0vkCR",
        "outputId": "373e4ff9-7fed-423d-de50-15dafd4ee5bc"
      },
      "source": [
        "li4 = []\n",
        "print(li4, type(li4))"
      ],
      "execution_count": 18,
      "outputs": [
        {
          "output_type": "stream",
          "text": [
            "[] <class 'list'>\n"
          ],
          "name": "stdout"
        }
      ]
    },
    {
      "cell_type": "code",
      "metadata": {
        "colab": {
          "base_uri": "https://localhost:8080/"
        },
        "id": "-vBtFRLov7Of",
        "outputId": "0a828a70-bbe5-46e4-bc6b-0dcb80d9d01f"
      },
      "source": [
        "print(li4.__sizeof__())"
      ],
      "execution_count": 19,
      "outputs": [
        {
          "output_type": "stream",
          "text": [
            "40\n"
          ],
          "name": "stdout"
        }
      ]
    },
    {
      "cell_type": "code",
      "metadata": {
        "id": "ICUPm_sXwHd_"
      },
      "source": [
        "li4.append(1)"
      ],
      "execution_count": 20,
      "outputs": []
    },
    {
      "cell_type": "code",
      "metadata": {
        "colab": {
          "base_uri": "https://localhost:8080/"
        },
        "id": "NF5ADdYiwLWz",
        "outputId": "f72e56ca-cc14-4bdf-d261-c7642bfb8e0c"
      },
      "source": [
        "print(li4.__sizeof__())"
      ],
      "execution_count": 21,
      "outputs": [
        {
          "output_type": "stream",
          "text": [
            "72\n"
          ],
          "name": "stdout"
        }
      ]
    },
    {
      "cell_type": "code",
      "metadata": {
        "colab": {
          "base_uri": "https://localhost:8080/"
        },
        "id": "JSz37jJBwMkN",
        "outputId": "553bacd8-5d86-4d4f-e8e2-44a282ec2417"
      },
      "source": [
        "li4.append(2)\n",
        "print(li4, li4.__sizeof__())"
      ],
      "execution_count": 22,
      "outputs": [
        {
          "output_type": "stream",
          "text": [
            "[1, 2] 72\n"
          ],
          "name": "stdout"
        }
      ]
    },
    {
      "cell_type": "code",
      "metadata": {
        "colab": {
          "base_uri": "https://localhost:8080/"
        },
        "id": "zcIO3BWmwRTQ",
        "outputId": "1c8a3098-6a5f-40d5-e07d-8ae2e80d406a"
      },
      "source": [
        "li4.append(3)\n",
        "print(li4, li4.__sizeof__())"
      ],
      "execution_count": 23,
      "outputs": [
        {
          "output_type": "stream",
          "text": [
            "[1, 2, 3] 72\n"
          ],
          "name": "stdout"
        }
      ]
    },
    {
      "cell_type": "code",
      "metadata": {
        "colab": {
          "base_uri": "https://localhost:8080/"
        },
        "id": "oTpM13YZwTaZ",
        "outputId": "f18c6478-69ef-416e-a80e-bcc613844f8b"
      },
      "source": [
        "li4.append(4)\n",
        "print(li4, li4.__sizeof__())"
      ],
      "execution_count": 24,
      "outputs": [
        {
          "output_type": "stream",
          "text": [
            "[1, 2, 3, 4] 72\n"
          ],
          "name": "stdout"
        }
      ]
    },
    {
      "cell_type": "code",
      "metadata": {
        "colab": {
          "base_uri": "https://localhost:8080/"
        },
        "id": "FNmzjszBwVZw",
        "outputId": "b5d3e6f9-9758-4a1d-c152-b1dff0174a66"
      },
      "source": [
        "li4.append(5)\n",
        "print(li4, li4.__sizeof__())"
      ],
      "execution_count": 25,
      "outputs": [
        {
          "output_type": "stream",
          "text": [
            "[1, 2, 3, 4, 5] 104\n"
          ],
          "name": "stdout"
        }
      ]
    },
    {
      "cell_type": "code",
      "metadata": {
        "colab": {
          "base_uri": "https://localhost:8080/"
        },
        "id": "HlxB7GUywXqE",
        "outputId": "34b1747a-b52c-4126-df2b-0ce34a1005c4"
      },
      "source": [
        "li4.pop()\n",
        "print(li4, li4.__sizeof__())"
      ],
      "execution_count": 26,
      "outputs": [
        {
          "output_type": "stream",
          "text": [
            "[1, 2, 3, 4] 104\n"
          ],
          "name": "stdout"
        }
      ]
    },
    {
      "cell_type": "code",
      "metadata": {
        "colab": {
          "base_uri": "https://localhost:8080/"
        },
        "id": "hDD772jtwstS",
        "outputId": "41e77a4f-0f83-42d3-ad78-9d9f64c6262c"
      },
      "source": [
        "li4.pop(2)\n",
        "print(li4, li4.__sizeof__())"
      ],
      "execution_count": 27,
      "outputs": [
        {
          "output_type": "stream",
          "text": [
            "[1, 2, 4] 88\n"
          ],
          "name": "stdout"
        }
      ]
    },
    {
      "cell_type": "code",
      "metadata": {
        "colab": {
          "base_uri": "https://localhost:8080/"
        },
        "id": "XhCvGNlBw2H5",
        "outputId": "ef79a03c-2877-4500-8ed6-0772960787fe"
      },
      "source": [
        "del li4[2]\n",
        "print(li4)"
      ],
      "execution_count": 28,
      "outputs": [
        {
          "output_type": "stream",
          "text": [
            "[1, 2]\n"
          ],
          "name": "stdout"
        }
      ]
    },
    {
      "cell_type": "code",
      "metadata": {
        "id": "vY1Gl4Phw8gW"
      },
      "source": [
        "li4.append(2)"
      ],
      "execution_count": 31,
      "outputs": []
    },
    {
      "cell_type": "code",
      "metadata": {
        "colab": {
          "base_uri": "https://localhost:8080/"
        },
        "id": "8RKVLbqixeDX",
        "outputId": "66c282c9-ec1b-47cc-99d9-a3ac2c4ea961"
      },
      "source": [
        "li4"
      ],
      "execution_count": 32,
      "outputs": [
        {
          "output_type": "execute_result",
          "data": {
            "text/plain": [
              "[1, 2, 2, 2]"
            ]
          },
          "metadata": {
            "tags": []
          },
          "execution_count": 32
        }
      ]
    },
    {
      "cell_type": "code",
      "metadata": {
        "colab": {
          "base_uri": "https://localhost:8080/"
        },
        "id": "TCUmJWVqxhBL",
        "outputId": "7169a6e2-fabb-420d-dc1c-751447823f4d"
      },
      "source": [
        "li4.count(2)"
      ],
      "execution_count": 33,
      "outputs": [
        {
          "output_type": "execute_result",
          "data": {
            "text/plain": [
              "3"
            ]
          },
          "metadata": {
            "tags": []
          },
          "execution_count": 33
        }
      ]
    },
    {
      "cell_type": "code",
      "metadata": {
        "colab": {
          "base_uri": "https://localhost:8080/"
        },
        "id": "OuwE_V3MxjXG",
        "outputId": "c71f45f2-1b08-4858-eba3-2081d38d1c3e"
      },
      "source": [
        "li4.count(1)"
      ],
      "execution_count": 34,
      "outputs": [
        {
          "output_type": "execute_result",
          "data": {
            "text/plain": [
              "1"
            ]
          },
          "metadata": {
            "tags": []
          },
          "execution_count": 34
        }
      ]
    },
    {
      "cell_type": "code",
      "metadata": {
        "colab": {
          "base_uri": "https://localhost:8080/"
        },
        "id": "1Slu5qvuxlVt",
        "outputId": "b8e9cb76-04b8-4c03-de01-913123c3e5ab"
      },
      "source": [
        "li4"
      ],
      "execution_count": 35,
      "outputs": [
        {
          "output_type": "execute_result",
          "data": {
            "text/plain": [
              "[1, 2, 2, 2]"
            ]
          },
          "metadata": {
            "tags": []
          },
          "execution_count": 35
        }
      ]
    },
    {
      "cell_type": "code",
      "metadata": {
        "id": "I-22HnyjxzEF"
      },
      "source": [
        "li4.insert(2, 3)"
      ],
      "execution_count": 36,
      "outputs": []
    },
    {
      "cell_type": "code",
      "metadata": {
        "colab": {
          "base_uri": "https://localhost:8080/"
        },
        "id": "uYJqriz6x6QU",
        "outputId": "ffce9521-930f-4290-edae-eb03c7f807c0"
      },
      "source": [
        "li4"
      ],
      "execution_count": 37,
      "outputs": [
        {
          "output_type": "execute_result",
          "data": {
            "text/plain": [
              "[1, 2, 3, 2, 2]"
            ]
          },
          "metadata": {
            "tags": []
          },
          "execution_count": 37
        }
      ]
    },
    {
      "cell_type": "code",
      "metadata": {
        "id": "vQDVtXc0x67y"
      },
      "source": [
        "li4.append(5)"
      ],
      "execution_count": 38,
      "outputs": []
    },
    {
      "cell_type": "code",
      "metadata": {
        "colab": {
          "base_uri": "https://localhost:8080/"
        },
        "id": "UAk8FVKkyAOg",
        "outputId": "4fff0758-1647-4c7c-e503-d369dc03b2f5"
      },
      "source": [
        "li4"
      ],
      "execution_count": 39,
      "outputs": [
        {
          "output_type": "execute_result",
          "data": {
            "text/plain": [
              "[1, 2, 3, 2, 2, 5]"
            ]
          },
          "metadata": {
            "tags": []
          },
          "execution_count": 39
        }
      ]
    },
    {
      "cell_type": "code",
      "metadata": {
        "id": "9TxFDOLEyA5w"
      },
      "source": [
        "li4.reverse()"
      ],
      "execution_count": 40,
      "outputs": []
    },
    {
      "cell_type": "code",
      "metadata": {
        "colab": {
          "base_uri": "https://localhost:8080/"
        },
        "id": "5rH95LZ0yNLt",
        "outputId": "78529f53-9a40-4c2d-fb55-d5faa4e9b0e7"
      },
      "source": [
        "li4"
      ],
      "execution_count": 41,
      "outputs": [
        {
          "output_type": "execute_result",
          "data": {
            "text/plain": [
              "[5, 2, 2, 3, 2, 1]"
            ]
          },
          "metadata": {
            "tags": []
          },
          "execution_count": 41
        }
      ]
    },
    {
      "cell_type": "code",
      "metadata": {
        "id": "I-ES47K3yOhv"
      },
      "source": [
        "li4.remove(2)"
      ],
      "execution_count": 44,
      "outputs": []
    },
    {
      "cell_type": "code",
      "metadata": {
        "colab": {
          "base_uri": "https://localhost:8080/"
        },
        "id": "Z6k7HabzyYXF",
        "outputId": "7911c49e-9f5e-4be8-fcef-bd1928841e8a"
      },
      "source": [
        "li4"
      ],
      "execution_count": 51,
      "outputs": [
        {
          "output_type": "execute_result",
          "data": {
            "text/plain": [
              "[5, 2, 2, 1]"
            ]
          },
          "metadata": {
            "tags": []
          },
          "execution_count": 51
        }
      ]
    },
    {
      "cell_type": "code",
      "metadata": {
        "colab": {
          "base_uri": "https://localhost:8080/"
        },
        "id": "yAXbp33xyZAC",
        "outputId": "8728b023-29da-4d97-ee48-b10be3c79e81"
      },
      "source": [
        "li4.count(5)"
      ],
      "execution_count": 47,
      "outputs": [
        {
          "output_type": "execute_result",
          "data": {
            "text/plain": [
              "1"
            ]
          },
          "metadata": {
            "tags": []
          },
          "execution_count": 47
        }
      ]
    },
    {
      "cell_type": "code",
      "metadata": {
        "colab": {
          "base_uri": "https://localhost:8080/"
        },
        "id": "kZjwcQh0ywg7",
        "outputId": "59541e17-1df3-4812-c991-f448add4412d"
      },
      "source": [
        "len(li4)"
      ],
      "execution_count": 50,
      "outputs": [
        {
          "output_type": "execute_result",
          "data": {
            "text/plain": [
              "4"
            ]
          },
          "metadata": {
            "tags": []
          },
          "execution_count": 50
        }
      ]
    },
    {
      "cell_type": "code",
      "metadata": {
        "id": "wgZQYHuWy4fF"
      },
      "source": [
        "li5 = [3]\n"
      ],
      "execution_count": 52,
      "outputs": []
    },
    {
      "cell_type": "code",
      "metadata": {
        "colab": {
          "base_uri": "https://localhost:8080/"
        },
        "id": "8Zghqh4xzzIA",
        "outputId": "81f82dc4-6b5c-47db-8613-0224fab4f32c"
      },
      "source": [
        "li5"
      ],
      "execution_count": 53,
      "outputs": [
        {
          "output_type": "execute_result",
          "data": {
            "text/plain": [
              "[3]"
            ]
          },
          "metadata": {
            "tags": []
          },
          "execution_count": 53
        }
      ]
    },
    {
      "cell_type": "code",
      "metadata": {
        "id": "gPEeeERWz0Ae"
      },
      "source": [
        "li4.extend(li5)"
      ],
      "execution_count": 54,
      "outputs": []
    },
    {
      "cell_type": "code",
      "metadata": {
        "colab": {
          "base_uri": "https://localhost:8080/"
        },
        "id": "SCfp2z8kz3V3",
        "outputId": "dbe9336e-4fec-45eb-df72-fbdd68483779"
      },
      "source": [
        "li4"
      ],
      "execution_count": 55,
      "outputs": [
        {
          "output_type": "execute_result",
          "data": {
            "text/plain": [
              "[5, 2, 2, 1, 3]"
            ]
          },
          "metadata": {
            "tags": []
          },
          "execution_count": 55
        }
      ]
    },
    {
      "cell_type": "code",
      "metadata": {
        "id": "8QMQKuM0z4OZ"
      },
      "source": [
        "li6 = li4 + li5"
      ],
      "execution_count": 56,
      "outputs": []
    },
    {
      "cell_type": "code",
      "metadata": {
        "colab": {
          "base_uri": "https://localhost:8080/"
        },
        "id": "VDGDE-7Pz7E_",
        "outputId": "a70bc479-264a-4203-8c52-a143896eff0e"
      },
      "source": [
        "li6"
      ],
      "execution_count": 57,
      "outputs": [
        {
          "output_type": "execute_result",
          "data": {
            "text/plain": [
              "[5, 2, 2, 1, 3, 3]"
            ]
          },
          "metadata": {
            "tags": []
          },
          "execution_count": 57
        }
      ]
    },
    {
      "cell_type": "markdown",
      "metadata": {
        "id": "w-nh7Pd30De1"
      },
      "source": [
        "### Tuple\n",
        "  declare by () or tuple function\n",
        "\n",
        "  immutable (cannot change)\n",
        "\n",
        "  allow multiple type\n",
        "\n",
        "  retreive the elements by index or slicing\n"
      ]
    },
    {
      "cell_type": "code",
      "metadata": {
        "id": "-o3_adLGz74o"
      },
      "source": [
        "tup = (1,2,3,4)"
      ],
      "execution_count": 58,
      "outputs": []
    },
    {
      "cell_type": "code",
      "metadata": {
        "colab": {
          "base_uri": "https://localhost:8080/"
        },
        "id": "cH5CVPCs0ag7",
        "outputId": "178b9bb4-7e9b-4187-80bf-40e2716d1ab5"
      },
      "source": [
        "tup"
      ],
      "execution_count": 59,
      "outputs": [
        {
          "output_type": "execute_result",
          "data": {
            "text/plain": [
              "(1, 2, 3, 4)"
            ]
          },
          "metadata": {
            "tags": []
          },
          "execution_count": 59
        }
      ]
    },
    {
      "cell_type": "code",
      "metadata": {
        "id": "1mdbniWb0bUW"
      },
      "source": [
        "tup1 = tuple(li5)"
      ],
      "execution_count": 60,
      "outputs": []
    },
    {
      "cell_type": "code",
      "metadata": {
        "colab": {
          "base_uri": "https://localhost:8080/"
        },
        "id": "GRek0jUo0fb4",
        "outputId": "d29d95fb-c013-47e2-ce39-421edb18ba04"
      },
      "source": [
        "tup1"
      ],
      "execution_count": 61,
      "outputs": [
        {
          "output_type": "execute_result",
          "data": {
            "text/plain": [
              "(3,)"
            ]
          },
          "metadata": {
            "tags": []
          },
          "execution_count": 61
        }
      ]
    },
    {
      "cell_type": "code",
      "metadata": {
        "id": "iqwMMZSB0gaH"
      },
      "source": [
        "tup2 = (1,2,3,4, 'hello', 'all', 4.2)"
      ],
      "execution_count": 62,
      "outputs": []
    },
    {
      "cell_type": "code",
      "metadata": {
        "colab": {
          "base_uri": "https://localhost:8080/"
        },
        "id": "Ebcm_fHH0nON",
        "outputId": "fc380c6b-e933-4b24-a896-23d6dabd9b6e"
      },
      "source": [
        "tup2"
      ],
      "execution_count": 63,
      "outputs": [
        {
          "output_type": "execute_result",
          "data": {
            "text/plain": [
              "(1, 2, 3, 4, 'hello', 'all', 4.2)"
            ]
          },
          "metadata": {
            "tags": []
          },
          "execution_count": 63
        }
      ]
    },
    {
      "cell_type": "code",
      "metadata": {
        "colab": {
          "base_uri": "https://localhost:8080/",
          "height": 34
        },
        "id": "iTgOvyQu0n2F",
        "outputId": "af90c4ee-e2a7-4192-8fea-a4491a1a9852"
      },
      "source": [
        "tup2[4]"
      ],
      "execution_count": 64,
      "outputs": [
        {
          "output_type": "execute_result",
          "data": {
            "application/vnd.google.colaboratory.intrinsic+json": {
              "type": "string"
            },
            "text/plain": [
              "'hello'"
            ]
          },
          "metadata": {
            "tags": []
          },
          "execution_count": 64
        }
      ]
    },
    {
      "cell_type": "code",
      "metadata": {
        "colab": {
          "base_uri": "https://localhost:8080/"
        },
        "id": "S2fd55WV0vPT",
        "outputId": "beed47e3-b3b6-4ef7-f85f-7bc24e0169b1"
      },
      "source": [
        "tup2[4:6]"
      ],
      "execution_count": 65,
      "outputs": [
        {
          "output_type": "execute_result",
          "data": {
            "text/plain": [
              "('hello', 'all')"
            ]
          },
          "metadata": {
            "tags": []
          },
          "execution_count": 65
        }
      ]
    },
    {
      "cell_type": "code",
      "metadata": {
        "colab": {
          "base_uri": "https://localhost:8080/",
          "height": 166
        },
        "id": "LaO6Hcnm0z0f",
        "outputId": "24457370-ad0c-47ab-fcff-aab9c31106df"
      },
      "source": [
        "tup2[4] = 'welcome'"
      ],
      "execution_count": 67,
      "outputs": [
        {
          "output_type": "error",
          "ename": "TypeError",
          "evalue": "ignored",
          "traceback": [
            "\u001b[0;31m---------------------------------------------------------------------------\u001b[0m",
            "\u001b[0;31mTypeError\u001b[0m                                 Traceback (most recent call last)",
            "\u001b[0;32m<ipython-input-67-8a69731654bf>\u001b[0m in \u001b[0;36m<module>\u001b[0;34m()\u001b[0m\n\u001b[0;32m----> 1\u001b[0;31m \u001b[0mtup2\u001b[0m\u001b[0;34m[\u001b[0m\u001b[0;36m4\u001b[0m\u001b[0;34m]\u001b[0m \u001b[0;34m=\u001b[0m \u001b[0;34m'welcome'\u001b[0m\u001b[0;34m\u001b[0m\u001b[0;34m\u001b[0m\u001b[0m\n\u001b[0m",
            "\u001b[0;31mTypeError\u001b[0m: 'tuple' object does not support item assignment"
          ]
        }
      ]
    },
    {
      "cell_type": "code",
      "metadata": {
        "colab": {
          "base_uri": "https://localhost:8080/"
        },
        "id": "arNj-_Xm047s",
        "outputId": "2b82b114-b7c5-42d1-c8b7-d5783eb22ac0"
      },
      "source": [
        "tup2"
      ],
      "execution_count": 68,
      "outputs": [
        {
          "output_type": "execute_result",
          "data": {
            "text/plain": [
              "(1, 2, 3, 4, 'hello', 'all', 4.2)"
            ]
          },
          "metadata": {
            "tags": []
          },
          "execution_count": 68
        }
      ]
    },
    {
      "cell_type": "code",
      "metadata": {
        "id": "XGc9LFmw0_BE"
      },
      "source": [
        "tup3 = 1,2,3,'hi' # packing"
      ],
      "execution_count": 69,
      "outputs": []
    },
    {
      "cell_type": "code",
      "metadata": {
        "colab": {
          "base_uri": "https://localhost:8080/"
        },
        "id": "Pni1irME1Oz-",
        "outputId": "e2fdd9f4-ad4c-4b95-81c8-7c07b7191dce"
      },
      "source": [
        "print(tup3, type(tup3))"
      ],
      "execution_count": 70,
      "outputs": [
        {
          "output_type": "stream",
          "text": [
            "(1, 2, 3, 'hi') <class 'tuple'>\n"
          ],
          "name": "stdout"
        }
      ]
    },
    {
      "cell_type": "code",
      "metadata": {
        "id": "sqLDgFXo1R6b"
      },
      "source": [
        "w,x,y,z = tup3 # unpacking"
      ],
      "execution_count": 71,
      "outputs": []
    },
    {
      "cell_type": "code",
      "metadata": {
        "colab": {
          "base_uri": "https://localhost:8080/"
        },
        "id": "v9yqoGsm1gtz",
        "outputId": "4414610b-5b96-4dc8-d516-740063b9970a"
      },
      "source": [
        "w"
      ],
      "execution_count": 72,
      "outputs": [
        {
          "output_type": "execute_result",
          "data": {
            "text/plain": [
              "1"
            ]
          },
          "metadata": {
            "tags": []
          },
          "execution_count": 72
        }
      ]
    },
    {
      "cell_type": "code",
      "metadata": {
        "colab": {
          "base_uri": "https://localhost:8080/"
        },
        "id": "1av_00m01hnZ",
        "outputId": "1a88a41c-0d7f-4982-bd18-590251ed3b42"
      },
      "source": [
        "x"
      ],
      "execution_count": 73,
      "outputs": [
        {
          "output_type": "execute_result",
          "data": {
            "text/plain": [
              "2"
            ]
          },
          "metadata": {
            "tags": []
          },
          "execution_count": 73
        }
      ]
    },
    {
      "cell_type": "code",
      "metadata": {
        "colab": {
          "base_uri": "https://localhost:8080/",
          "height": 34
        },
        "id": "BTr_grS_1i6p",
        "outputId": "b98deb84-ae93-4106-fd70-da7e92bf0d3f"
      },
      "source": [
        "z"
      ],
      "execution_count": 74,
      "outputs": [
        {
          "output_type": "execute_result",
          "data": {
            "application/vnd.google.colaboratory.intrinsic+json": {
              "type": "string"
            },
            "text/plain": [
              "'hi'"
            ]
          },
          "metadata": {
            "tags": []
          },
          "execution_count": 74
        }
      ]
    },
    {
      "cell_type": "code",
      "metadata": {
        "colab": {
          "base_uri": "https://localhost:8080/"
        },
        "id": "b5B4FvRj1kAW",
        "outputId": "ad1cfb5f-d9ce-4d43-c68d-996ea4860f94"
      },
      "source": [
        "tup3\n",
        "print(tup3, tup3.__sizeof__())"
      ],
      "execution_count": 75,
      "outputs": [
        {
          "output_type": "stream",
          "text": [
            "(1, 2, 3, 'hi') 56\n"
          ],
          "name": "stdout"
        }
      ]
    },
    {
      "cell_type": "code",
      "metadata": {
        "colab": {
          "base_uri": "https://localhost:8080/"
        },
        "id": "kjo8IWKb16AI",
        "outputId": "e59bcf35-c27d-4625-fe00-0a2f7b8f8409"
      },
      "source": [
        "li3 = list(tup3) \n",
        "print(li3, li3.__sizeof__())"
      ],
      "execution_count": 77,
      "outputs": [
        {
          "output_type": "stream",
          "text": [
            "[1, 2, 3, 'hi'] 96\n"
          ],
          "name": "stdout"
        }
      ]
    },
    {
      "cell_type": "code",
      "metadata": {
        "colab": {
          "base_uri": "https://localhost:8080/"
        },
        "id": "GDRS0Lam1_LS",
        "outputId": "9b0c1f48-cece-4dbd-c0c1-a2408dce3497"
      },
      "source": [
        "tup3"
      ],
      "execution_count": 78,
      "outputs": [
        {
          "output_type": "execute_result",
          "data": {
            "text/plain": [
              "(1, 2, 3, 'hi')"
            ]
          },
          "metadata": {
            "tags": []
          },
          "execution_count": 78
        }
      ]
    },
    {
      "cell_type": "code",
      "metadata": {
        "id": "CHcY06Ll2bSa"
      },
      "source": [
        "li = [1,2,3,(4,5,6)]"
      ],
      "execution_count": 79,
      "outputs": []
    },
    {
      "cell_type": "code",
      "metadata": {
        "colab": {
          "base_uri": "https://localhost:8080/"
        },
        "id": "eU1kypqe23oz",
        "outputId": "2077d9f5-6c56-4950-f3a6-0619d50198ca"
      },
      "source": [
        "li"
      ],
      "execution_count": 80,
      "outputs": [
        {
          "output_type": "execute_result",
          "data": {
            "text/plain": [
              "[1, 2, 3, (4, 5, 6)]"
            ]
          },
          "metadata": {
            "tags": []
          },
          "execution_count": 80
        }
      ]
    },
    {
      "cell_type": "code",
      "metadata": {
        "id": "uUVFUmfS24Us"
      },
      "source": [
        "tup = (1,2,3,[4,5,6])"
      ],
      "execution_count": 81,
      "outputs": []
    },
    {
      "cell_type": "code",
      "metadata": {
        "colab": {
          "base_uri": "https://localhost:8080/"
        },
        "id": "Fla0FQ-N2_gu",
        "outputId": "f7d100ed-7ce3-4c7b-8e58-2891ffbba0db"
      },
      "source": [
        "tup"
      ],
      "execution_count": 82,
      "outputs": [
        {
          "output_type": "execute_result",
          "data": {
            "text/plain": [
              "(1, 2, 3, [4, 5, 6])"
            ]
          },
          "metadata": {
            "tags": []
          },
          "execution_count": 82
        }
      ]
    },
    {
      "cell_type": "code",
      "metadata": {
        "id": "p0xp5zEA3AWx"
      },
      "source": [
        "tup[3].insert(1,7)"
      ],
      "execution_count": 83,
      "outputs": []
    },
    {
      "cell_type": "code",
      "metadata": {
        "colab": {
          "base_uri": "https://localhost:8080/"
        },
        "id": "IJP_eeoS3O8Y",
        "outputId": "6624cc00-275f-4bed-e8cf-60a1ec348145"
      },
      "source": [
        "tup"
      ],
      "execution_count": 84,
      "outputs": [
        {
          "output_type": "execute_result",
          "data": {
            "text/plain": [
              "(1, 2, 3, [4, 7, 5, 6])"
            ]
          },
          "metadata": {
            "tags": []
          },
          "execution_count": 84
        }
      ]
    },
    {
      "cell_type": "code",
      "metadata": {
        "colab": {
          "base_uri": "https://localhost:8080/"
        },
        "id": "zAlWkSoH3Ppm",
        "outputId": "67c23a38-21b3-47ca-e298-fed91a7f9723"
      },
      "source": [
        "tup.count(2)"
      ],
      "execution_count": 85,
      "outputs": [
        {
          "output_type": "execute_result",
          "data": {
            "text/plain": [
              "1"
            ]
          },
          "metadata": {
            "tags": []
          },
          "execution_count": 85
        }
      ]
    },
    {
      "cell_type": "code",
      "metadata": {
        "colab": {
          "base_uri": "https://localhost:8080/"
        },
        "id": "19bw8nQz37p8",
        "outputId": "0ce0f900-8258-4b0d-eae7-7701d360d28b"
      },
      "source": [
        "tup.index(3)"
      ],
      "execution_count": 86,
      "outputs": [
        {
          "output_type": "execute_result",
          "data": {
            "text/plain": [
              "2"
            ]
          },
          "metadata": {
            "tags": []
          },
          "execution_count": 86
        }
      ]
    },
    {
      "cell_type": "code",
      "metadata": {
        "colab": {
          "base_uri": "https://localhost:8080/"
        },
        "id": "A8M9js5X3_K4",
        "outputId": "0880ff7c-1998-4fbf-f1fd-250aa7cd69bc"
      },
      "source": [
        "tup.index([4, 7, 5, 6])"
      ],
      "execution_count": 87,
      "outputs": [
        {
          "output_type": "execute_result",
          "data": {
            "text/plain": [
              "3"
            ]
          },
          "metadata": {
            "tags": []
          },
          "execution_count": 87
        }
      ]
    },
    {
      "cell_type": "code",
      "metadata": {
        "colab": {
          "base_uri": "https://localhost:8080/"
        },
        "id": "NlczU-Q74Itj",
        "outputId": "ad48dfd0-508c-4451-bf94-2799e23bf603"
      },
      "source": [
        "tup[3].count(5)"
      ],
      "execution_count": 89,
      "outputs": [
        {
          "output_type": "execute_result",
          "data": {
            "text/plain": [
              "1"
            ]
          },
          "metadata": {
            "tags": []
          },
          "execution_count": 89
        }
      ]
    },
    {
      "cell_type": "code",
      "metadata": {
        "id": "cCMbwm7y4cFN"
      },
      "source": [
        "li = [2,3,4,5]"
      ],
      "execution_count": 92,
      "outputs": []
    },
    {
      "cell_type": "code",
      "metadata": {
        "id": "BHRDa6zy4wo-"
      },
      "source": [
        "li1 = [i*i for i in li] # list comprehension"
      ],
      "execution_count": 97,
      "outputs": []
    },
    {
      "cell_type": "code",
      "metadata": {
        "colab": {
          "base_uri": "https://localhost:8080/"
        },
        "id": "smhTJAoj4710",
        "outputId": "de05227d-cd06-469f-b93b-99d83ef68b82"
      },
      "source": [
        "li1"
      ],
      "execution_count": 98,
      "outputs": [
        {
          "output_type": "execute_result",
          "data": {
            "text/plain": [
              "[4, 9, 16, 25]"
            ]
          },
          "metadata": {
            "tags": []
          },
          "execution_count": 98
        }
      ]
    },
    {
      "cell_type": "code",
      "metadata": {
        "id": "iqL8j0rE5A2K"
      },
      "source": [
        "li2 = []\n",
        "for i in li:\n",
        "  li2.append(i*i)"
      ],
      "execution_count": 99,
      "outputs": []
    },
    {
      "cell_type": "code",
      "metadata": {
        "colab": {
          "base_uri": "https://localhost:8080/"
        },
        "id": "pQgTEDy75Iyc",
        "outputId": "eeb4c34d-7916-43e4-bbd6-123d7d41785c"
      },
      "source": [
        "li2"
      ],
      "execution_count": 100,
      "outputs": [
        {
          "output_type": "execute_result",
          "data": {
            "text/plain": [
              "[4, 9, 16, 25]"
            ]
          },
          "metadata": {
            "tags": []
          },
          "execution_count": 100
        }
      ]
    },
    {
      "cell_type": "code",
      "metadata": {
        "id": "VGKjaJ-35JsG"
      },
      "source": [
        ""
      ],
      "execution_count": null,
      "outputs": []
    }
  ]
}